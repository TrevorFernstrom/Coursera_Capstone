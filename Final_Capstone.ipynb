{
 "cells": [
  {
   "cell_type": "markdown",
   "metadata": {},
   "source": [
    "# Gym Startup\n",
    "### Trevor Fernstrom"
   ]
  },
  {
   "cell_type": "markdown",
   "metadata": {},
   "source": [
    "### 1. Introduction"
   ]
  },
  {
   "cell_type": "markdown",
   "metadata": {},
   "source": [
    "#### 1.1 Background"
   ]
  },
  {
   "cell_type": "markdown",
   "metadata": {},
   "source": [
    "Fitness is increasingly becoming apart of peoples lives as science continues to emphasis the importance of exercise for everyone. According to International Health, Racquet & Sportsclub Association (IHRSA), the gym industry in the U.S. made [32.3 billion](https://www.wellnesscreatives.com/gym-market-statistics/#market) in revenue in 2018. There are over [105,000 gym/fitness clubs in the U.S.](https://www.ibisworld.com/industry-statistics/number-of-businesses/gym-health-fitness-clubs-united-states/) and this number has been slowly increasing over the past several years. \n"
   ]
  },
  {
   "cell_type": "markdown",
   "metadata": {},
   "source": [
    "#### 1.2 Problem"
   ]
  },
  {
   "cell_type": "markdown",
   "metadata": {},
   "source": [
    "Every entrepreneur is faced with the problem of how they are going to sell their product/service to their desired customers. Goods and services can be purchased either online or in-person. For someone wanting to open a retail business, choosing store location is critical in getting good business and sustaining operations. Several factors must be considered when opening a gym. The variables included in this analysis are state rent, state utilities, number of gyms, population, and the relative easiness to open a business. Using some of the variables mentioned, choosing the state and city to operate is the first decision. Then the problem becomes, given the city of interest, where would be the best location to open a gym?"
   ]
  },
  {
   "cell_type": "markdown",
   "metadata": {},
   "source": [
    "### 2. Data"
   ]
  },
  {
   "cell_type": "markdown",
   "metadata": {},
   "source": [
    "#### 2.1 Data Description"
   ]
  },
  {
   "cell_type": "markdown",
   "metadata": {},
   "source": [
    "To select the best location, we need to narrow our search down to a specific state. To do this, data was collected on state utilities, building cost, level of physical activity, and the overall easiness to start a business. The utilities data can be found [here](https://www.move.org/utility-bills-101/), which contains the average cost of electricity, natural gas, and water by state in the United States. To get a sense of prices of building in the United States, average mortgage prices for homes was used and can be found [here](https://www.experian.com/blogs/ask-experian/research/median-home-values-by-state/). The data for the level of physical activity in each state can be found [here](https://www.cdc.gov/physicalactivity/data/inactivity-prevalence-maps/index.html). It is important to mention that this data was self-reported and measures physical inactivity. The last variable, overall easiness to open a business, can be found [here](https://www.seekcapital.com/blog/best-states-to-start-business/). The ranks determined in this data take into account 21 different indicators that influence the starting of a business such as availability of labor, tax climate, business survival rate, and etc."
   ]
  },
  {
   "cell_type": "markdown",
   "metadata": {},
   "source": [
    "#### 2.2 Data Cleaning"
   ]
  },
  {
   "cell_type": "markdown",
   "metadata": {},
   "source": [
    "Data was scraped from these websites, cleaned, and then combined into one table. Missing values were not an issue as there was data for all 50 states in each table. However, U.S. territories were removed from tables that contained them. This is because not all the tables contained these territories and the fact that the states are what is of interest. Some of the data that was retrieved was not important for the analysis and was removed. The data was then ranked based on their values. Utilities and mortgage were ranked based on their monetary values from least to greatest, having the smaller value being the higher rank. Ranking was already provided for the business startup data. The physical activity data was ranked based on inactivity prevalence. States with smaller physical inactivity prevalence were ranked higher. Lastly, data from Foursquare was used to determine the specific neighborhood that would be best to open a gym based on gym prevalence in that area. "
   ]
  },
  {
   "cell_type": "markdown",
   "metadata": {},
   "source": [
    "#### 2.3 Data Preparation"
   ]
  },
  {
   "cell_type": "code",
   "execution_count": 1,
   "metadata": {},
   "outputs": [
    {
     "name": "stdout",
     "output_type": "stream",
     "text": [
      "Requirement already satisfied: beautifulsoup4 in /home/jupyterlab/conda/envs/python/lib/python3.6/site-packages (4.9.1)\n",
      "Requirement already satisfied: soupsieve>1.2 in /home/jupyterlab/conda/envs/python/lib/python3.6/site-packages (from beautifulsoup4) (2.0.1)\n",
      "Requirement already satisfied: lxml in /home/jupyterlab/conda/envs/python/lib/python3.6/site-packages (4.5.1)\n",
      "Collecting package metadata (current_repodata.json): done\n",
      "Solving environment: done\n",
      "\n",
      "# All requested packages already installed.\n",
      "\n",
      "Libraries Installed!\n"
     ]
    }
   ],
   "source": [
    "!pip install beautifulsoup4\n",
    "!pip install lxml\n",
    "!conda install -c conda-forge folium=0.5.0 --yes\n",
    "print(\"Libraries Installed!\")"
   ]
  },
  {
   "cell_type": "code",
   "execution_count": 2,
   "metadata": {},
   "outputs": [],
   "source": [
    "import pandas as pd\n",
    "import numpy as np\n",
    "from bs4 import BeautifulSoup\n",
    "import requests\n",
    "import matplotlib.cm as cm\n",
    "import matplotlib.colors as colors\n",
    "import folium\n",
    "import json\n",
    "from pandas.io.json import json_normalize"
   ]
  },
  {
   "cell_type": "code",
   "execution_count": 3,
   "metadata": {},
   "outputs": [],
   "source": [
    "Utilities_html = 'https://www.move.org/utility-bills-101/'\n",
    "Rent_html = 'https://www.experian.com/blogs/ask-experian/research/median-home-values-by-state/'\n",
    "BusinessOpen = 'https://www.seekcapital.com/blog/best-states-to-start-business/'\n",
    "Exercise_html = 'https://www.cdc.gov/physicalactivity/data/inactivity-prevalence-maps/index.html'\n",
    "utilities_html_content = requests.get(Utilities_html).text\n",
    "rent_html_content = requests.get(Rent_html).text\n",
    "open_html_content = requests.get(BusinessOpen).text\n",
    "exercise_html_content = requests.get(Exercise_html).text"
   ]
  },
  {
   "cell_type": "code",
   "execution_count": 4,
   "metadata": {},
   "outputs": [],
   "source": [
    "utilities_ParseData = BeautifulSoup(utilities_html_content, \"lxml\")\n",
    "rent_ParseData = BeautifulSoup(rent_html_content, \"lxml\")\n",
    "open_ParseData = BeautifulSoup(open_html_content, \"lxml\")\n",
    "exercise_ParseData = BeautifulSoup(exercise_html_content, \"lxml\")"
   ]
  },
  {
   "cell_type": "code",
   "execution_count": 5,
   "metadata": {},
   "outputs": [],
   "source": [
    "utilities_htmlTable = utilities_ParseData.find_all('table', attrs={'class': 'scrolling-table__values__table', 'style': 'width:630px; transform:translate3d(-630px,0,0);'}) # Find the Table\n",
    "rent_htmlTable = rent_ParseData.find_all('table', attrs={'class': 'two-headers-tbl scroll'})\n",
    "exercise_htmlTable = exercise_ParseData.find_all('table', attrs={'class': 'table-bordered table table-striped table-striped-light opt-in show-more-div-138 table-sm fs08'})"
   ]
  },
  {
   "cell_type": "code",
   "execution_count": 6,
   "metadata": {},
   "outputs": [],
   "source": [
    "Overall_Rank = []\n",
    "Title_Rank = []\n",
    "Open_State = []\n",
    "\n",
    "for row in open_ParseData.find_all('li'):\n",
    "    #if row.find_all('b')== 'Overall Rank: '\n",
    "    titlecells = row.find_all('b')\n",
    "    cells = row.find_all('span')\n",
    "    if len(titlecells)==1:\n",
    "        Title_Rank.append(titlecells[0].find(text=True).replace('\\n', ' ').strip())\n",
    "        \n",
    "    if len(cells)==1:\n",
    "        Overall_Rank.append(cells[0].find(text=True).replace('\\n', ' ').strip())\n",
    "\n",
    "for row in open_ParseData.find_all('h2'):\n",
    "    Open_State.append(row.find(text=True).replace('\\n', ' ').strip())"
   ]
  },
  {
   "cell_type": "code",
   "execution_count": 7,
   "metadata": {},
   "outputs": [
    {
     "data": {
      "text/html": [
       "<div>\n",
       "<style scoped>\n",
       "    .dataframe tbody tr th:only-of-type {\n",
       "        vertical-align: middle;\n",
       "    }\n",
       "\n",
       "    .dataframe tbody tr th {\n",
       "        vertical-align: top;\n",
       "    }\n",
       "\n",
       "    .dataframe thead th {\n",
       "        text-align: right;\n",
       "    }\n",
       "</style>\n",
       "<table border=\"1\" class=\"dataframe\">\n",
       "  <thead>\n",
       "    <tr style=\"text-align: right;\">\n",
       "      <th></th>\n",
       "      <th>State</th>\n",
       "      <th>Startup Rank</th>\n",
       "    </tr>\n",
       "  </thead>\n",
       "  <tbody>\n",
       "    <tr>\n",
       "      <th>0</th>\n",
       "      <td>Alabama</td>\n",
       "      <td>46.0</td>\n",
       "    </tr>\n",
       "    <tr>\n",
       "      <th>1</th>\n",
       "      <td>Alaska</td>\n",
       "      <td>22.0</td>\n",
       "    </tr>\n",
       "    <tr>\n",
       "      <th>2</th>\n",
       "      <td>Arizona</td>\n",
       "      <td>15.0</td>\n",
       "    </tr>\n",
       "    <tr>\n",
       "      <th>3</th>\n",
       "      <td>Arkansas</td>\n",
       "      <td>43.0</td>\n",
       "    </tr>\n",
       "    <tr>\n",
       "      <th>4</th>\n",
       "      <td>California</td>\n",
       "      <td>5.0</td>\n",
       "    </tr>\n",
       "  </tbody>\n",
       "</table>\n",
       "</div>"
      ],
      "text/plain": [
       "        State  Startup Rank\n",
       "0     Alabama          46.0\n",
       "1      Alaska          22.0\n",
       "2     Arizona          15.0\n",
       "3    Arkansas          43.0\n",
       "4  California           5.0"
      ]
     },
     "execution_count": 7,
     "metadata": {},
     "output_type": "execute_result"
    }
   ],
   "source": [
    "State_data = pd.DataFrame(Open_State, columns=['State'])\n",
    "Rank_data = pd.DataFrame(Overall_Rank, columns=['Startup Rank'])\n",
    "Title_data = pd.DataFrame(Title_Rank, columns=['Title Rank'])\n",
    "State_data = State_data[4:54]\n",
    "State_data = State_data.reset_index(drop=True)\n",
    "Rank_data = Rank_data[4:160]\n",
    "Rank_data = Rank_data.reset_index(drop=True)\n",
    "Title_data['Startup Rank'] = Rank_data\n",
    "Title_data = Title_data[Title_data['Title Rank'] == \"Overall Rank:\"]\n",
    "Title_data = Title_data.reset_index(drop=True)\n",
    "Title_data['State'] = State_data\n",
    "Title_data = Title_data.replace(':', 46)\n",
    "Startup_data = Title_data[['State']]\n",
    "Title_data = Title_data[['Startup Rank']].astype(float)\n",
    "Startup_data['Startup Rank'] = Title_data[['Startup Rank']]\n",
    "Startup_data.head()"
   ]
  },
  {
   "cell_type": "code",
   "execution_count": 8,
   "metadata": {},
   "outputs": [],
   "source": [
    "Exercise_State = []\n",
    "Prevalence = []\n",
    "ConfidenceInterval = []\n",
    "\n",
    "for rows in exercise_htmlTable[0].find_all('tr'):\n",
    "    col1 = rows.find_all('th')\n",
    "    Exercise_State.append(col1[0].find(text=True))\n",
    "for rows2 in exercise_htmlTable[0].find_all('tr'):\n",
    "    col2 = rows2.find_all('td')\n",
    "    if len(col2)==2:\n",
    "        Prevalence.append(col2[0].find(text=True).replace('\\n', ' ').strip())\n",
    "        ConfidenceInterval.append(col2[1].find(text=True).replace('\\n', ' ').strip())"
   ]
  },
  {
   "cell_type": "code",
   "execution_count": 9,
   "metadata": {},
   "outputs": [
    {
     "data": {
      "text/html": [
       "<div>\n",
       "<style scoped>\n",
       "    .dataframe tbody tr th:only-of-type {\n",
       "        vertical-align: middle;\n",
       "    }\n",
       "\n",
       "    .dataframe tbody tr th {\n",
       "        vertical-align: top;\n",
       "    }\n",
       "\n",
       "    .dataframe thead th {\n",
       "        text-align: right;\n",
       "    }\n",
       "</style>\n",
       "<table border=\"1\" class=\"dataframe\">\n",
       "  <thead>\n",
       "    <tr style=\"text-align: right;\">\n",
       "      <th></th>\n",
       "      <th>State</th>\n",
       "      <th>Prevalence</th>\n",
       "      <th>ConfidenceInterval</th>\n",
       "      <th>Exercise Rank</th>\n",
       "    </tr>\n",
       "  </thead>\n",
       "  <tbody>\n",
       "    <tr>\n",
       "      <th>5</th>\n",
       "      <td>Colorado</td>\n",
       "      <td>17.3</td>\n",
       "      <td>(16.8, 17.8)</td>\n",
       "      <td>1.0</td>\n",
       "    </tr>\n",
       "    <tr>\n",
       "      <th>47</th>\n",
       "      <td>Washington</td>\n",
       "      <td>18.3</td>\n",
       "      <td>(17.9, 18.8)</td>\n",
       "      <td>2.0</td>\n",
       "    </tr>\n",
       "    <tr>\n",
       "      <th>44</th>\n",
       "      <td>Utah</td>\n",
       "      <td>18.6</td>\n",
       "      <td>(18.1, 19.0)</td>\n",
       "      <td>3.0</td>\n",
       "    </tr>\n",
       "    <tr>\n",
       "      <th>37</th>\n",
       "      <td>Oregon</td>\n",
       "      <td>19.2</td>\n",
       "      <td>(18.5, 19.8)</td>\n",
       "      <td>4.0</td>\n",
       "    </tr>\n",
       "    <tr>\n",
       "      <th>8</th>\n",
       "      <td>District of Columbia</td>\n",
       "      <td>19.8</td>\n",
       "      <td>(18.9, 20.8)</td>\n",
       "      <td>5.0</td>\n",
       "    </tr>\n",
       "  </tbody>\n",
       "</table>\n",
       "</div>"
      ],
      "text/plain": [
       "                   State Prevalence ConfidenceInterval  Exercise Rank\n",
       "5               Colorado       17.3       (16.8, 17.8)            1.0\n",
       "47            Washington       18.3       (17.9, 18.8)            2.0\n",
       "44                  Utah       18.6       (18.1, 19.0)            3.0\n",
       "37                Oregon       19.2       (18.5, 19.8)            4.0\n",
       "8   District of Columbia       19.8       (18.9, 20.8)            5.0"
      ]
     },
     "execution_count": 9,
     "metadata": {},
     "output_type": "execute_result"
    }
   ],
   "source": [
    "Exercise_data = pd.DataFrame(Exercise_State, columns=['State'])\n",
    "Exercise_data = Exercise_data[2:55]\n",
    "Exercise_data = Exercise_data.reset_index(drop=True)\n",
    "Exercise_data['Prevalence'] = Prevalence\n",
    "Exercise_data['ConfidenceInterval'] = ConfidenceInterval\n",
    "Exercise_data = Exercise_data.sort_values(by=['Prevalence'])\n",
    "Exercise_data['Exercise Rank'] = Exercise_data['Prevalence'].rank()\n",
    "Exercise_data.head()"
   ]
  },
  {
   "cell_type": "code",
   "execution_count": 10,
   "metadata": {},
   "outputs": [],
   "source": [
    "Rent_State = []\n",
    "FICO = []\n",
    "HomeValue = []\n",
    "Mortgage = []\n",
    "Difference = []\n",
    "\n",
    "for row in rent_htmlTable[0].find_all('tr'):\n",
    "    cells = row.find_all('td')\n",
    "    if len(cells)==5:\n",
    "        Rent_State.append(cells[0].find(text=True).replace('\\n', ' ').strip())\n",
    "        FICO.append(cells[1].find(text=True).replace('\\n', ' ').strip())\n",
    "        HomeValue.append(cells[2].find(text=True).replace('\\n', ' ').strip())\n",
    "        Mortgage.append(cells[3].find(text=True).replace('\\n', ' ').strip())\n",
    "        Difference.append(cells[4].find(text=True).replace('\\n', ' ').strip())"
   ]
  },
  {
   "cell_type": "code",
   "execution_count": 11,
   "metadata": {},
   "outputs": [
    {
     "data": {
      "text/html": [
       "<div>\n",
       "<style scoped>\n",
       "    .dataframe tbody tr th:only-of-type {\n",
       "        vertical-align: middle;\n",
       "    }\n",
       "\n",
       "    .dataframe tbody tr th {\n",
       "        vertical-align: top;\n",
       "    }\n",
       "\n",
       "    .dataframe thead th {\n",
       "        text-align: right;\n",
       "    }\n",
       "</style>\n",
       "<table border=\"1\" class=\"dataframe\">\n",
       "  <thead>\n",
       "    <tr style=\"text-align: right;\">\n",
       "      <th></th>\n",
       "      <th>State</th>\n",
       "      <th>Mortgage</th>\n",
       "      <th>Rent Rank</th>\n",
       "    </tr>\n",
       "  </thead>\n",
       "  <tbody>\n",
       "    <tr>\n",
       "      <th>50</th>\n",
       "      <td>West Virginia</td>\n",
       "      <td>110464</td>\n",
       "      <td>1.0</td>\n",
       "    </tr>\n",
       "    <tr>\n",
       "      <th>40</th>\n",
       "      <td>Indiana</td>\n",
       "      <td>120567</td>\n",
       "      <td>2.0</td>\n",
       "    </tr>\n",
       "    <tr>\n",
       "      <th>47</th>\n",
       "      <td>Mississippi</td>\n",
       "      <td>122107</td>\n",
       "      <td>3.0</td>\n",
       "    </tr>\n",
       "    <tr>\n",
       "      <th>44</th>\n",
       "      <td>Ohio</td>\n",
       "      <td>122939</td>\n",
       "      <td>4.0</td>\n",
       "    </tr>\n",
       "    <tr>\n",
       "      <th>41</th>\n",
       "      <td>Kentucky</td>\n",
       "      <td>126485</td>\n",
       "      <td>5.0</td>\n",
       "    </tr>\n",
       "  </tbody>\n",
       "</table>\n",
       "</div>"
      ],
      "text/plain": [
       "            State  Mortgage  Rent Rank\n",
       "50  West Virginia    110464        1.0\n",
       "40        Indiana    120567        2.0\n",
       "47    Mississippi    122107        3.0\n",
       "44           Ohio    122939        4.0\n",
       "41       Kentucky    126485        5.0"
      ]
     },
     "execution_count": 11,
     "metadata": {},
     "output_type": "execute_result"
    }
   ],
   "source": [
    "Rent_data = pd.DataFrame(Rent_State, columns=['State'])\n",
    "Rent_data['FICO'] = FICO\n",
    "Rent_data['HomeValue'] = HomeValue\n",
    "Rent_data['Mortgage'] = Mortgage\n",
    "Rent_data = Rent_data[['State', 'FICO','HomeValue','Mortgage']]\n",
    "Rent_data['FICO'] = Rent_data['FICO'].str.replace('$', '')\n",
    "Rent_data['HomeValue'] = Rent_data['HomeValue'].str.replace('$', '')\n",
    "Rent_data['Mortgage'] = Rent_data['Mortgage'].str.replace('$', '')\n",
    "Rent_data['FICO'] = Rent_data['FICO'].str.replace(',', '')\n",
    "Rent_data['HomeValue'] = Rent_data['HomeValue'].str.replace(',', '')\n",
    "Rent_data['Mortgage'] = Rent_data['Mortgage'].str.replace(',', '')\n",
    "Rent_data[['FICO', 'HomeValue','Mortgage']] = Rent_data[['FICO', 'HomeValue','Mortgage']].astype(int)\n",
    "Rent_data = Rent_data[['State', 'Mortgage']]\n",
    "Rent_data = Rent_data.sort_values(by=['Mortgage'])\n",
    "Rent_data['Rent Rank'] = Rent_data['Mortgage'].rank()\n",
    "Rent_data.head()"
   ]
  },
  {
   "cell_type": "code",
   "execution_count": 12,
   "metadata": {},
   "outputs": [],
   "source": [
    "Utilities_State = []\n",
    "Electricity = []\n",
    "NaturalGas = []\n",
    "Water = []\n",
    "Internet = []\n",
    "Cable = []\n",
    "Total = []\n",
    "\n",
    "for row in utilities_htmlTable[0].find_all('tr'):\n",
    "    cells = row.find_all('td')\n",
    "    if len(cells)==7:\n",
    "        Utilities_State.append(cells[0].find(text=True).replace('\\n', ' ').strip())\n",
    "        Electricity.append(cells[1].find(text=True).replace('\\n', ' ').strip())\n",
    "        NaturalGas.append(cells[2].find(text=True).replace('\\n', ' ').strip())\n",
    "        Water.append(cells[3].find(text=True).replace('\\n', ' ').strip())\n",
    "        Internet.append(cells[4].find(text=True).replace('\\n', ' ').strip())\n",
    "        Cable.append(cells[5].find(text=True).replace('\\n', ' ').strip())\n",
    "        Total.append(cells[6].find(text=True).replace('\\n', ' ').strip())"
   ]
  },
  {
   "cell_type": "code",
   "execution_count": 13,
   "metadata": {},
   "outputs": [
    {
     "data": {
      "text/html": [
       "<div>\n",
       "<style scoped>\n",
       "    .dataframe tbody tr th:only-of-type {\n",
       "        vertical-align: middle;\n",
       "    }\n",
       "\n",
       "    .dataframe tbody tr th {\n",
       "        vertical-align: top;\n",
       "    }\n",
       "\n",
       "    .dataframe thead th {\n",
       "        text-align: right;\n",
       "    }\n",
       "</style>\n",
       "<table border=\"1\" class=\"dataframe\">\n",
       "  <thead>\n",
       "    <tr style=\"text-align: right;\">\n",
       "      <th></th>\n",
       "      <th>State</th>\n",
       "      <th>Electricity</th>\n",
       "      <th>NaturalGas</th>\n",
       "      <th>Water</th>\n",
       "      <th>Total</th>\n",
       "      <th>Utilities Rank</th>\n",
       "    </tr>\n",
       "  </thead>\n",
       "  <tbody>\n",
       "    <tr>\n",
       "      <th>50</th>\n",
       "      <td>New Mexico</td>\n",
       "      <td>79.16</td>\n",
       "      <td>50.00</td>\n",
       "      <td>70.39</td>\n",
       "      <td>199.55</td>\n",
       "      <td>1.0</td>\n",
       "    </tr>\n",
       "    <tr>\n",
       "      <th>49</th>\n",
       "      <td>Utah</td>\n",
       "      <td>81.65</td>\n",
       "      <td>47.99</td>\n",
       "      <td>70.39</td>\n",
       "      <td>200.03</td>\n",
       "      <td>2.0</td>\n",
       "    </tr>\n",
       "    <tr>\n",
       "      <th>48</th>\n",
       "      <td>Colorado</td>\n",
       "      <td>82.47</td>\n",
       "      <td>50.57</td>\n",
       "      <td>70.39</td>\n",
       "      <td>203.43</td>\n",
       "      <td>3.0</td>\n",
       "    </tr>\n",
       "    <tr>\n",
       "      <th>47</th>\n",
       "      <td>Montana</td>\n",
       "      <td>94.75</td>\n",
       "      <td>42.60</td>\n",
       "      <td>70.39</td>\n",
       "      <td>207.74</td>\n",
       "      <td>4.0</td>\n",
       "    </tr>\n",
       "    <tr>\n",
       "      <th>46</th>\n",
       "      <td>Idaho</td>\n",
       "      <td>100.38</td>\n",
       "      <td>41.76</td>\n",
       "      <td>70.39</td>\n",
       "      <td>212.53</td>\n",
       "      <td>5.0</td>\n",
       "    </tr>\n",
       "  </tbody>\n",
       "</table>\n",
       "</div>"
      ],
      "text/plain": [
       "         State  Electricity  NaturalGas  Water   Total  Utilities Rank\n",
       "50  New Mexico        79.16       50.00  70.39  199.55             1.0\n",
       "49        Utah        81.65       47.99  70.39  200.03             2.0\n",
       "48    Colorado        82.47       50.57  70.39  203.43             3.0\n",
       "47     Montana        94.75       42.60  70.39  207.74             4.0\n",
       "46       Idaho       100.38       41.76  70.39  212.53             5.0"
      ]
     },
     "execution_count": 13,
     "metadata": {},
     "output_type": "execute_result"
    }
   ],
   "source": [
    "Utilities_data = pd.DataFrame(Utilities_State, columns=['State'])\n",
    "Utilities_data['Electricity'] = Electricity\n",
    "Utilities_data['NaturalGas'] = NaturalGas\n",
    "Utilities_data['Water'] = Water\n",
    "Utilities_data['Internet'] = Internet\n",
    "Utilities_data['Cable'] = Cable\n",
    "Utilities_data['Total'] = Total\n",
    "Utilities_data = Utilities_data[Utilities_data['State']!= \"State\"] \n",
    "Utilities_data = Utilities_data[['State', 'Electricity','NaturalGas','Water']]\n",
    "Utilities_data['Electricity'] = Utilities_data['Electricity'].str.replace('$', '')\n",
    "Utilities_data['NaturalGas'] = Utilities_data['NaturalGas'].str.replace('$', '')\n",
    "Utilities_data['Water'] = Utilities_data['Water'].str.replace('$', '')\n",
    "Utilities_data[['Electricity', 'NaturalGas','Water']] = Utilities_data[['Electricity', 'NaturalGas','Water']].astype(float)\n",
    "Utilities_data['Total'] = Utilities_data['Electricity'] + Utilities_data['NaturalGas'] + Utilities_data['Water']\n",
    "Utilities_data = Utilities_data.reset_index(drop=True)\n",
    "Utilities_data = Utilities_data.sort_values(by=['Total'])\n",
    "Utilities_data['Utilities Rank'] = Utilities_data['Total'].rank()\n",
    "Utilities_data.head()"
   ]
  },
  {
   "cell_type": "code",
   "execution_count": 14,
   "metadata": {},
   "outputs": [],
   "source": [
    "State_Ranks =  pd.DataFrame(Utilities_data['State'])\n",
    "State_Ranks['Utilities Rank'] = Utilities_data['Utilities Rank']\n",
    "State_Ranks = State_Ranks.reset_index(drop=True)\n",
    "State_Ranks = State_Ranks[0:51]\n",
    "State_Ranks = State_Ranks.join(Rent_data.set_index('State'),on = 'State')\n",
    "State_Ranks = State_Ranks[State_Ranks['State'] != \"District of Columbia\"]\n",
    "State_Ranks = pd.merge(State_Ranks, Startup_data, left_on = \"State\", right_on = \"State\")\n",
    "State_Ranks = pd.merge(State_Ranks, Exercise_data, left_on = \"State\", right_on = \"State\")\n",
    "State_Ranks = State_Ranks[['State', 'Utilities Rank', 'Rent Rank', 'Startup Rank', 'Exercise Rank']]"
   ]
  },
  {
   "cell_type": "code",
   "execution_count": 15,
   "metadata": {},
   "outputs": [],
   "source": [
    "State_Ranks['Average'] = State_Ranks.mean(axis=1)"
   ]
  },
  {
   "cell_type": "code",
   "execution_count": 16,
   "metadata": {},
   "outputs": [
    {
     "data": {
      "text/html": [
       "<div>\n",
       "<style scoped>\n",
       "    .dataframe tbody tr th:only-of-type {\n",
       "        vertical-align: middle;\n",
       "    }\n",
       "\n",
       "    .dataframe tbody tr th {\n",
       "        vertical-align: top;\n",
       "    }\n",
       "\n",
       "    .dataframe thead th {\n",
       "        text-align: right;\n",
       "    }\n",
       "</style>\n",
       "<table border=\"1\" class=\"dataframe\">\n",
       "  <thead>\n",
       "    <tr style=\"text-align: right;\">\n",
       "      <th></th>\n",
       "      <th>State</th>\n",
       "      <th>Utilities Rank</th>\n",
       "      <th>Rent Rank</th>\n",
       "      <th>Startup Rank</th>\n",
       "      <th>Exercise Rank</th>\n",
       "      <th>Average</th>\n",
       "    </tr>\n",
       "  </thead>\n",
       "  <tbody>\n",
       "    <tr>\n",
       "      <th>1</th>\n",
       "      <td>Utah</td>\n",
       "      <td>2.0</td>\n",
       "      <td>37.0</td>\n",
       "      <td>1.0</td>\n",
       "      <td>3.0</td>\n",
       "      <td>10.750</td>\n",
       "    </tr>\n",
       "    <tr>\n",
       "      <th>4</th>\n",
       "      <td>Idaho</td>\n",
       "      <td>5.0</td>\n",
       "      <td>25.0</td>\n",
       "      <td>7.0</td>\n",
       "      <td>11.0</td>\n",
       "      <td>12.000</td>\n",
       "    </tr>\n",
       "    <tr>\n",
       "      <th>2</th>\n",
       "      <td>Colorado</td>\n",
       "      <td>3.0</td>\n",
       "      <td>47.0</td>\n",
       "      <td>4.0</td>\n",
       "      <td>1.0</td>\n",
       "      <td>13.750</td>\n",
       "    </tr>\n",
       "    <tr>\n",
       "      <th>18</th>\n",
       "      <td>South Dakota</td>\n",
       "      <td>19.0</td>\n",
       "      <td>18.0</td>\n",
       "      <td>11.0</td>\n",
       "      <td>14.5</td>\n",
       "      <td>15.625</td>\n",
       "    </tr>\n",
       "    <tr>\n",
       "      <th>3</th>\n",
       "      <td>Montana</td>\n",
       "      <td>4.0</td>\n",
       "      <td>31.0</td>\n",
       "      <td>12.0</td>\n",
       "      <td>16.0</td>\n",
       "      <td>15.750</td>\n",
       "    </tr>\n",
       "  </tbody>\n",
       "</table>\n",
       "</div>"
      ],
      "text/plain": [
       "           State  Utilities Rank  Rent Rank  Startup Rank  Exercise Rank  \\\n",
       "1           Utah             2.0       37.0           1.0            3.0   \n",
       "4          Idaho             5.0       25.0           7.0           11.0   \n",
       "2       Colorado             3.0       47.0           4.0            1.0   \n",
       "18  South Dakota            19.0       18.0          11.0           14.5   \n",
       "3        Montana             4.0       31.0          12.0           16.0   \n",
       "\n",
       "    Average  \n",
       "1    10.750  \n",
       "4    12.000  \n",
       "2    13.750  \n",
       "18   15.625  \n",
       "3    15.750  "
      ]
     },
     "execution_count": 16,
     "metadata": {},
     "output_type": "execute_result"
    }
   ],
   "source": [
    "State_Ranks.sort_values(by=['Average']).head()"
   ]
  }
 ],
 "metadata": {
  "kernelspec": {
   "display_name": "Python",
   "language": "python",
   "name": "conda-env-python-py"
  },
  "language_info": {
   "codemirror_mode": {
    "name": "ipython",
    "version": 3
   },
   "file_extension": ".py",
   "mimetype": "text/x-python",
   "name": "python",
   "nbconvert_exporter": "python",
   "pygments_lexer": "ipython3",
   "version": "3.6.10"
  }
 },
 "nbformat": 4,
 "nbformat_minor": 4
}
